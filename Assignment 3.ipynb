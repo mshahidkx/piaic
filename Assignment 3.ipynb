{
 "cells": [
  {
   "cell_type": "markdown",
   "id": "8aed5ca5",
   "metadata": {},
   "source": [
    " 1. Take a sentence input from user using input function. Count occurence of a particular character/word in the sentence and print the message that the character appear this many times in the sentence.\n",
    "Like if user inputs> \"My name is Sana. I am an undergraduate student. I am learning Artificial Intellegence in PIAIC\"\n",
    "Your output should be:\n",
    "    I appears 5 times in your sentence\n",
    "Hint: nahi batounga use string methods.\n",
    "Note: Sana is a boy. His full name is SanaUllah😄"
   ]
  },
  {
   "cell_type": "code",
   "execution_count": 1,
   "id": "49fe7b18",
   "metadata": {},
   "outputs": [
    {
     "name": "stdout",
     "output_type": "stream",
     "text": [
      "Write a Paragraph \n",
      "My name is Sana. I am an undergraduate student. I am learning Artificial Intellegence in PIAIC\"\n",
      "Write a word to count in above paraghraph \n",
      "I\n",
      "appears 5 times in your paragraph\n"
     ]
    }
   ],
   "source": [
    "paragraph=input(\"Write a Paragraph \\n\")\n",
    "word=paragraph.count(input(\"Write a word to count in above paraghraph \\n\"))\n",
    "print(f\"appears {word} times in your paragraph\")"
   ]
  },
  {
   "cell_type": "markdown",
   "id": "735b3d5e",
   "metadata": {},
   "source": [
    "\n",
    "2. Take a number input from user and print the square of that number. \n",
    "\n",
    "if a user inputs 10 Your output should be like:\n",
    "    The square of 10 is 100\n",
    "if a user inputs 5 Your output should be like:\n",
    "    The square of 5 is 25\n",
    "if a user inputs 2 Your output should be like:\n",
    "    The square of 2 is 4"
   ]
  },
  {
   "cell_type": "code",
   "execution_count": 2,
   "id": "72ac727a",
   "metadata": {},
   "outputs": [
    {
     "name": "stdout",
     "output_type": "stream",
     "text": [
      "Insert Number to find the square10\n",
      "The square of 10 is 100\n"
     ]
    }
   ],
   "source": [
    "sqaure=int(input(\"Insert Number to find the square\"))\n",
    "ans= sqaure*sqaure\n",
    "print(f\"The square of {sqaure} is {ans}\")"
   ]
  },
  {
   "cell_type": "markdown",
   "id": "4f68d688",
   "metadata": {},
   "source": [
    "\n",
    "3. Take two inputs from user using two input functions add these two numbers and print the result.\n",
    "For example if a user inputs 10 in first input, 20 in second input then your output mustbe like:\n",
    "    The sum of 10 and 20 is 30\n",
    "    \n",
    "For example if a user inputs 12 in first input, 30 in second input then your output mustbe like:\n",
    "    The sum of 12 and 30 is 42\n",
    "\n",
    "For example if a user inputs 100 in first input, 200 in second input then your out put mustbe like:\n",
    "    The sum of 100 and 200 is 300"
   ]
  },
  {
   "cell_type": "code",
   "execution_count": 3,
   "id": "97b733f3",
   "metadata": {},
   "outputs": [
    {
     "name": "stdout",
     "output_type": "stream",
     "text": [
      "Enter First Number10\n",
      "Enter Second Number20\n",
      "The sum of 10 and 20 is 30\n"
     ]
    }
   ],
   "source": [
    "num1=int(input(\"Enter First Number\"))\n",
    "num2=int(input (\"Enter Second Number\"))\n",
    "sum=num1+num2\n",
    "print(f\"The sum of {num1} and {num2} is {sum}\")"
   ]
  },
  {
   "cell_type": "code",
   "execution_count": null,
   "id": "eb5f886d",
   "metadata": {},
   "outputs": [],
   "source": [
    "\n",
    "4. Format a string to display a card like string:\n",
    "    \n",
    "            Presidential Initiative for AI & Computing\n",
    "                          ID CARD\n",
    "            Student Name   : Asad Ali\n",
    "            Father Name    : Amjad Ali\n",
    "            Date of Birth  : 01-01-2000\n",
    "            Course Enrolled: Artificial Intelligence\n",
    "            Batch          : 2022\n",
    "            Day            : Saturday \n",
    "            Centre         : Sir Syed University of Engg and Technology\n",
    "                \n",
    "Note: all the field values must be taken as user inputs and stored in variable"
   ]
  },
  {
   "cell_type": "code",
   "execution_count": 4,
   "id": "77230faf",
   "metadata": {
    "scrolled": true
   },
   "outputs": [
    {
     "name": "stdout",
     "output_type": "stream",
     "text": [
      "Enter Your NameShahid\n",
      "Enter your Father NameOrangzaib\n",
      "Enter your Date of Birth30-12-1986\n",
      "Enter your selected CourseArtificial Intelligence\n",
      "Enter your batch Years2022\n",
      "Your Weekly Class on the day? Saturday\n",
      "Your Institute NameSir Syed University of Engineering and Technology\n",
      "\n",
      "     \n",
      "      Presidential Initiative for AI & Computing\n",
      "                    ID CARD\n",
      "      Student Name    :  Shahid\n",
      "      Father Name     :  Orangzaib\n",
      "      Date of Birth   :  30-12-1986\n",
      "      Course Enrolled :  Artificial Intelligence\n",
      "      Batch           :  2022\n",
      "      Day             :  Saturday\n",
      "      Centre          :  Sir Syed University of Engineering and Technology\n",
      "      \n",
      "      \n",
      "      \n"
     ]
    }
   ],
   "source": [
    "name=input(\"Enter Your Name\")\n",
    "fname=input(\"Enter your Father Name\")\n",
    "dob=input (\"Enter your Date of Birth\")\n",
    "course=input (\"Enter your selected Course\")\n",
    "batch=input (\"Enter your batch Years\")\n",
    "day=input (\"Your Weekly Class on the day? \")\n",
    "uniname=input(\"Your Institute Name\")\n",
    "print(f\"\"\"\n",
    "     \n",
    "      Presidential Initiative for AI & Computing\n",
    "                    ID CARD\n",
    "      Student Name    :  {name}\n",
    "      Father Name     :  {fname}\n",
    "      Date of Birth   :  {dob}\n",
    "      Course Enrolled :  {course}\n",
    "      Batch           :  {batch}\n",
    "      Day             :  {day}\n",
    "      Centre          :  {uniname}\n",
    "      \n",
    "      \n",
    "      \"\"\" )"
   ]
  }
 ],
 "metadata": {
  "kernelspec": {
   "display_name": "Python 3 (ipykernel)",
   "language": "python",
   "name": "python3"
  },
  "language_info": {
   "codemirror_mode": {
    "name": "ipython",
    "version": 3
   },
   "file_extension": ".py",
   "mimetype": "text/x-python",
   "name": "python",
   "nbconvert_exporter": "python",
   "pygments_lexer": "ipython3",
   "version": "3.9.12"
  }
 },
 "nbformat": 4,
 "nbformat_minor": 5
}
