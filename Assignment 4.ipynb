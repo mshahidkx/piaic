{
 "cells": [
  {
   "cell_type": "markdown",
   "id": "84069240",
   "metadata": {},
   "source": [
    "1) A company decided to give bonus of 5% to employee if his/her year of service is more than 5 years.\n",
    "Ask user for their salary and year of service and print the net bonus amount."
   ]
  },
  {
   "cell_type": "code",
   "execution_count": 6,
   "id": "a1c2d65d",
   "metadata": {},
   "outputs": [
    {
     "name": "stdout",
     "output_type": "stream",
     "text": [
      "Enter your Company Joining Year2020\n",
      "Your Net Bounus is Sorry! You are not eligible\n"
     ]
    }
   ],
   "source": [
    "bns=None\n",
    "cyear=2022\n",
    "jyear=int(input(\"Enter your Company Joining Year\"))\n",
    "year=cyear-jyear\n",
    "if year > 5:\n",
    "    slry=int(input(\"Enter your monthly salary\"))\n",
    "    bns=slry/100*5\n",
    "else:\n",
    "    bns='Sorry! You are not eligible'\n",
    "print(f\"Your Net Bounus is {bns}\")"
   ]
  },
  {
   "cell_type": "markdown",
   "id": "d9deb55c",
   "metadata": {},
   "source": [
    "\n",
    "2) Write a program to check whether a person is eligible for voting or not. (accept age from user)"
   ]
  },
  {
   "cell_type": "code",
   "execution_count": 17,
   "id": "a566b6e4",
   "metadata": {},
   "outputs": [
    {
     "name": "stdout",
     "output_type": "stream",
     "text": [
      "Check you are eligible for voting or not \n",
      " Please Tell your birth year 2004\n",
      "Your age is 18, You are eligible for Vote\n"
     ]
    }
   ],
   "source": [
    "vote=None\n",
    "cyear=2022\n",
    "dob=int(input(\"Check you are eligible for voting or not \\n Please Tell your birth year \"))\n",
    "age=cyear-dob\n",
    "if age >= 18:\n",
    "    vote='You are eligible for Vote.'\n",
    "else:\n",
    "    vote='You are not eligible for Vote.'\n",
    "print(f\"Your age is {age}, {vote}\")"
   ]
  },
  {
   "cell_type": "markdown",
   "id": "c9b86345",
   "metadata": {},
   "source": [
    "\n",
    "3) Write a program to check whether a number entered by user is even or odd."
   ]
  },
  {
   "cell_type": "code",
   "execution_count": 34,
   "id": "c976e30d",
   "metadata": {},
   "outputs": [
    {
     "name": "stdout",
     "output_type": "stream",
     "text": [
      "Enter a number to find even or odd : 13\n",
      "Number is Odd\n"
     ]
    }
   ],
   "source": [
    "number=None\n",
    "num=int(input(\"Enter a number to find even or odd : \"))\n",
    "eo=num % 2\n",
    "if eo == 0:\n",
    "    number='Number is Even'\n",
    "else:\n",
    "    number= 'Number is Odd'\n",
    "print(f\"{number}\")"
   ]
  },
  {
   "cell_type": "markdown",
   "id": "6b251816",
   "metadata": {},
   "source": [
    "\n",
    "4) Write a program to check whether a number is divisible by 7 or not.\n",
    "Show Answer"
   ]
  },
  {
   "cell_type": "code",
   "execution_count": 39,
   "id": "19eb6782",
   "metadata": {
    "scrolled": true
   },
   "outputs": [
    {
     "name": "stdout",
     "output_type": "stream",
     "text": [
      "Enter a number : 67\n",
      "Answer = 4, 67 is not divisible by 7\n"
     ]
    }
   ],
   "source": [
    "number=None\n",
    "num=int(input(\"Enter a number : \"))\n",
    "db7=num % 7\n",
    "if db7 == 0:\n",
    "    number='is divisible by 7'\n",
    "else:\n",
    "    number= 'is not divisible by 7'\n",
    "print(f\"Answer = {db7}, {num} {number}\")"
   ]
  },
  {
   "cell_type": "markdown",
   "id": "ea1d3fa8",
   "metadata": {},
   "source": [
    "\n",
    "5) Write a program to display \n",
    "\"Hello\" if a number entered by user is a multiple of five , otherwise print \"Bye\"."
   ]
  },
  {
   "cell_type": "code",
   "execution_count": 6,
   "id": "2583a149",
   "metadata": {},
   "outputs": [
    {
     "name": "stdout",
     "output_type": "stream",
     "text": [
      "Enter a number : 125\n",
      "Hello\n"
     ]
    }
   ],
   "source": [
    "number=None\n",
    "num=int(input(\"Enter a number : \"))\n",
    "db5=num % 5\n",
    "if db5 == 0:\n",
    "    number='Hello'\n",
    "else:\n",
    "    number= 'Bye'\n",
    "print(f\"{number}\")"
   ]
  },
  {
   "cell_type": "markdown",
   "id": "e6b92db8",
   "metadata": {},
   "source": [
    "\n",
    "6) Write a program to calculate the electricity bill (accept number of unit from user) according to the following criteria :\n",
    "     Unit                                                     Price  \n",
    "uptp 100 units                                             no charge\n",
    "Next 200 units                                              Rs 5 per unit\n",
    "After 200 units                                             Rs 10 per unit\n",
    "(For example if input unit is 350 than total bill amount is Rs.2000\n",
    "(For example if input unit is 97 than total bill amount is Rs.0\n",
    "(For example if input unit is 150 than total bill amount is Rs.250"
   ]
  },
  {
   "cell_type": "code",
   "execution_count": 1,
   "id": "7a7e9d8a",
   "metadata": {},
   "outputs": [
    {
     "name": "stdout",
     "output_type": "stream",
     "text": [
      "Please Enter your Electricity Bill Unit 350\n",
      "2000\n"
     ]
    }
   ],
   "source": [
    "bill=None\n",
    "unit=int(input(\"Please Enter your Electricity Bill Unit \"))\n",
    "if unit <=100:\n",
    "    bill='No Charge'\n",
    "elif unit <= 200 :\n",
    "    above100=(unit-100)*5\n",
    "    bill=above100\n",
    "elif unit > 200:\n",
    "    above200=(unit-200) *10\n",
    "    above100=(unit-100-(unit-200)) *5\n",
    "    bill=above200+above100\n",
    "else:\n",
    "    pass\n",
    "print(bill)"
   ]
  },
  {
   "cell_type": "markdown",
   "id": "3ce07262",
   "metadata": {},
   "source": [
    "\n",
    "7) Write a program to display the last digit of a number."
   ]
  },
  {
   "cell_type": "code",
   "execution_count": 7,
   "id": "3ea7d73e",
   "metadata": {},
   "outputs": [
    {
     "name": "stdout",
     "output_type": "stream",
     "text": [
      "Enter Numbers 10\n",
      "The Last Digit in a Given Number 10 = 0\n"
     ]
    }
   ],
   "source": [
    "number=int(input(\"Enter Numbers \"))\n",
    "last_digit = number % 10 \n",
    "print (\"The Last Digit in a Given Number %d = %d\" % (number, last_digit))\n"
   ]
  },
  {
   "cell_type": "markdown",
   "id": "278804e9",
   "metadata": {},
   "source": [
    "\n",
    "Q8. Write a program to check whether the last digit of a number( entered by user ) is \n",
    "divisible by 3 or not."
   ]
  },
  {
   "cell_type": "code",
   "execution_count": 12,
   "id": "c73ae302",
   "metadata": {},
   "outputs": [
    {
     "name": "stdout",
     "output_type": "stream",
     "text": [
      "Enter Numbers46664\n",
      "The Last Digit in a Given Number 46664 = 4 is Not divisible by 3\n"
     ]
    }
   ],
   "source": [
    "div3=None,\n",
    "number=int(input(\"Enter Numbers\"))\n",
    "ld=number % 10\n",
    "if ld % 3==0:\n",
    "    div3 = 'Divisible by 3'\n",
    "else:\n",
    "    div3 = 'Not divisible by 3'\n",
    "print (f\"The Last Digit in a Given Number %d = %d is {div3}\" % (number, ld))"
   ]
  },
  {
   "cell_type": "markdown",
   "id": "bca097d1",
   "metadata": {},
   "source": [
    "\n",
    "9) Take values of length and breadth of a rectangle from user and check if it is square or not."
   ]
  },
  {
   "cell_type": "code",
   "execution_count": 25,
   "id": "f0a322ed",
   "metadata": {},
   "outputs": [
    {
     "name": "stdout",
     "output_type": "stream",
     "text": [
      "Enter length 9\n",
      "Enter Breadth 9\n",
      "It is Square\n"
     ]
    }
   ],
   "source": [
    "rec=None;\n",
    "l=int(input(\"Enter length \"))\n",
    "b=int(input(\"Enter Breadth \"))\n",
    "if l/b==1:\n",
    "    rec='It is Square'\n",
    "else:\n",
    "    rec='It is Not Sqaure'\n",
    "print(f\"{rec}\")"
   ]
  },
  {
   "cell_type": "markdown",
   "id": "0e829f20",
   "metadata": {},
   "source": [
    "\n",
    "10) Take two int values from user and print greatest among them."
   ]
  },
  {
   "cell_type": "code",
   "execution_count": 35,
   "id": "8a69ba22",
   "metadata": {},
   "outputs": [
    {
     "name": "stdout",
     "output_type": "stream",
     "text": [
      "Enter First Value 0\n",
      "Enter Second Value 0\n",
      "Greatest Value is 0\n"
     ]
    }
   ],
   "source": [
    "greater=None;\n",
    "value1=int(input(\"Enter First Value \"))\n",
    "value2=int(input(\"Enter Second Value \"))\n",
    "if value1 > value2:\n",
    "    greater = 'Greatest Value is %d'%(value1)\n",
    "else:\n",
    "    greater = 'Greatest Value is %d'%(value2)\n",
    "print(f\"{greater}\")\n"
   ]
  },
  {
   "cell_type": "markdown",
   "id": "26675deb",
   "metadata": {},
   "source": [
    "\n",
    "11) A shop will give discount of 10% if the cost of purchased quantity is more than 1000.\n",
    "Ask user for quantity\n",
    "Suppose, one unit will cost 100.\n",
    "Judge and print total cost for user."
   ]
  },
  {
   "cell_type": "code",
   "execution_count": 57,
   "id": "dff1a86d",
   "metadata": {},
   "outputs": [
    {
     "name": "stdout",
     "output_type": "stream",
     "text": [
      "Enter Quantity 5\n",
      "Total Amount = 500 ,\n",
      "You are not eligible for discount \n",
      "Discount Amount= 0 \n",
      "After Discount = 500\n"
     ]
    }
   ],
   "source": [
    "disc=None,\n",
    "tprice=0\n",
    "unitcost=100\n",
    "quantity=int(input(\"Enter Quantity \"))\n",
    "price=unitcost*quantity\n",
    "if price >1000:\n",
    "    dprice=price/100*10\n",
    "    tprice=price-dprice\n",
    "    disc='You avail 10 Percent discount'\n",
    "else:\n",
    "    tprice=price\n",
    "    dprice=0\n",
    "    disc='You are not eligible for discount'\n",
    "print(f\"Total Amount = %d ,\\n{disc} \\nDiscount Amount= %d \\nAfter Discount = %d\" %(price, dprice, tprice))"
   ]
  },
  {
   "cell_type": "markdown",
   "id": "9abfc5ab",
   "metadata": {},
   "source": [
    "\n",
    "12) A school has following rules for grading system:\n",
    "\n",
    "a. Below 25 - F\n",
    "\n",
    "b. 25 to 45 - E\n",
    "\n",
    "c. 45 to 50 - D\n",
    "\n",
    "d. 50 to 60 - C\n",
    "\n",
    "e. 60 to 80 - B\n",
    "\n",
    "f. Above 80 - A\n",
    "\n",
    "Ask user to enter marks and print the corresponding grade."
   ]
  },
  {
   "cell_type": "code",
   "execution_count": 5,
   "id": "857cd467",
   "metadata": {},
   "outputs": [
    {
     "name": "stdout",
     "output_type": "stream",
     "text": [
      "Enter Obtain Marks Out Of 100 24\n",
      "Your Grade is F\n"
     ]
    }
   ],
   "source": [
    "grade=None;\n",
    "marks=int(input(\"Enter Obtain Marks Out Of 100 \"))\n",
    "if marks >80:\n",
    "    grade='A'\n",
    "elif marks >60:\n",
    "    grade='B'\n",
    "elif marks >50:\n",
    "    grade='C'\n",
    "elif marks >45:\n",
    "    grade='D'\n",
    "elif marks >=25:\n",
    "    grade='E'\n",
    "else:\n",
    "    grade='F'\n",
    "print(f\"Your Grade is {grade}\")"
   ]
  },
  {
   "cell_type": "markdown",
   "id": "5f13021f",
   "metadata": {},
   "source": [
    "\n",
    "13) Take input of age of 3 people by user and determine oldest and youngest among them."
   ]
  },
  {
   "cell_type": "code",
   "execution_count": 38,
   "id": "2f5fe0be",
   "metadata": {},
   "outputs": [
    {
     "name": "stdout",
     "output_type": "stream",
     "text": [
      "Enter First Age 45\n",
      "Enter Second Age 35\n",
      "Enter Third Age 25\n",
      "Oldest Age is 45\n",
      "Youngest Age is 25\n"
     ]
    }
   ],
   "source": [
    "old=None;\n",
    "young=None;\n",
    "age1=int(input(\"Enter First Age \"))\n",
    "age2=int(input(\"Enter Second Age \"))\n",
    "age3=int(input(\"Enter Third Age \"))\n",
    "if age1 > age2 and age1>age3 and age2>age3:\n",
    "    old = 'Oldest Age is %d'%(age1)\n",
    "    young='Youngest Age is %d'%(age3)\n",
    "elif age1 > age2 and age1>age3 and age3>age2:\n",
    "    old = 'Oldest Age is %d'%(age1)\n",
    "    young= 'Youngest Age is %d'%(age2)\n",
    "elif age2>age1 and age2>age3 and age1>age3:\n",
    "    old = 'Oldest Age is %d'%(age2)\n",
    "    young= 'Youngest Age is %d'%(age3)\n",
    "elif age2>age1 and age2>age3 and age3>age1:\n",
    "    old = 'Oldest Age is %d'%(age2)\n",
    "    young= 'Youngest Age is %d'%(age1)\n",
    "elif age3>age1 and age3>age2 and age1>age2:\n",
    "    old = 'Oldest Age is %d'%(age3)\n",
    "    young= 'Youngest Age is %d'%(age2)\n",
    "elif age3>age1 and age3>age2 and age2>age1:\n",
    "    old = 'Oldest Age is %d'%(age3)\n",
    "    young= 'Youngest Age is %d'%(age1)\n",
    "print(f\"{old}\\n{young}\")"
   ]
  },
  {
   "cell_type": "markdown",
   "id": "3c86f94b",
   "metadata": {},
   "source": [
    "\n",
    "\n",
    "14) A student will not be allowed to sit in exam if his/her attendence is less than 75%.\n",
    "\n",
    "Take following input from user\n",
    "\n",
    "Number of classes held\n",
    "\n",
    "Number of classes attended.\n",
    "\n",
    "And print\n",
    "\n",
    "percentage of class attended\n",
    "\n",
    "Is student is allowed to sit in exam or not.\n"
   ]
  },
  {
   "cell_type": "code",
   "execution_count": 11,
   "id": "c20fdc9b",
   "metadata": {},
   "outputs": [
    {
     "name": "stdout",
     "output_type": "stream",
     "text": [
      "Number of Total Classes 100\n",
      "Number of Attend Classes74\n",
      "Your Class attendance Percentage is 74.0 \n",
      "You are Not Allowed\n"
     ]
    }
   ],
   "source": [
    "exam=None;\n",
    "fix_attendance=75\n",
    "no_classes=int(input(\"Number of Total Classes \"))\n",
    "attendance=int(input(\"Number of Attend Classes\"))\n",
    "perc_attend=no_classes/100*attendance\n",
    "if perc_attend >=fix_attendance:\n",
    "    exam ='You are Allowed to sit in Exam'\n",
    "else:\n",
    "    exam = 'You are Not Allowed to sit in Exam'\n",
    "print(f\"Your Class attendance Percentage is {perc_attend} \\n{exam}\")"
   ]
  },
  {
   "cell_type": "markdown",
   "id": "3146e98b",
   "metadata": {},
   "source": [
    "\n",
    "15) Modify the above question to allow student to sit if he/she has medical cause. Ask user if he/she has medical cause or not ( 'Y' or 'N' ) and print accordingly."
   ]
  },
  {
   "cell_type": "code",
   "execution_count": 23,
   "id": "d0e8ddc5",
   "metadata": {},
   "outputs": [
    {
     "name": "stdout",
     "output_type": "stream",
     "text": [
      "Number of Total Classes 100\n",
      "Number of Attend Classes45\n",
      "Your Attendance Below 75 Percent, Have you any medical issue? Y/N y\n",
      "Your class attendance percentage is 45.0 \n",
      "You are allowed to sit in exam with medical proof\n"
     ]
    }
   ],
   "source": [
    "exam=None;\n",
    "fix_attendance=75\n",
    "no_classes=int(input(\"Number of Total Classes \"))\n",
    "attendance=int(input(\"Number of Attend Classes\"))\n",
    "perc_attend=no_classes/100*attendance\n",
    "if perc_attend >=fix_attendance:\n",
    "    exam ='You are allowed to sit in exam'\n",
    "elif perc_attend < fix_attendance:\n",
    "    medical=input(\"Your Attendance Below 75 Percent, Have you any medical issue? Y/N \").lower()\n",
    "    if medical=='y':\n",
    "        exam ='You are allowed to sit in exam with medical proof'\n",
    "    else:\n",
    "        exam = 'You are not allowed to sit in exam'\n",
    "else:\n",
    "    exam = 'You are not allowed to sit in exam'\n",
    "print(f\"Your class attendance percentage is {perc_attend} \\n{exam}\")"
   ]
  },
  {
   "cell_type": "markdown",
   "id": "4acf50a2",
   "metadata": {},
   "source": [
    "\n",
    "16) Write a program to check if a year is leap year or not.\n",
    "\n",
    "If a year is divisible by 4 then it is leap year but if the year is century year like 2000, 1900, 2100 then it must be divisible by 400."
   ]
  },
  {
   "cell_type": "code",
   "execution_count": 39,
   "id": "f629c281",
   "metadata": {},
   "outputs": [
    {
     "name": "stdout",
     "output_type": "stream",
     "text": [
      "Enter year to find leap year or not: 2100\n",
      "2100 is not a leap year\n"
     ]
    }
   ],
   "source": [
    "leap_y=None;\n",
    "year=int(input(\"Enter year to find leap year or not: \"))\n",
    "if year%4==0:\n",
    "    if year%400==0:\n",
    "        leap_y='is a leap year'\n",
    "    else:\n",
    "        leap_y='is not a leap year'\n",
    "else:\n",
    "    pass\n",
    "print(f\"{year} {leap_y}\")\n"
   ]
  },
  {
   "cell_type": "markdown",
   "id": "ff5edc4d",
   "metadata": {},
   "source": [
    "\n",
    "17) Ask user to enter age, gender ( M or F ), marital status ( Y or N ) and then using following rules print their place of service.\n",
    "\n",
    "if employee is female, then she will work only in urban areas.\n",
    "\n",
    "if employee is a male and age is in between 20 to 40 then he may work in anywhere\n",
    "\n",
    "if employee is male and age is in between 40 t0 60 then he will work in urban areas only.\n",
    "\n",
    "And any other input of age should print \"ERROR\""
   ]
  },
  {
   "cell_type": "code",
   "execution_count": 70,
   "id": "a75b0539",
   "metadata": {},
   "outputs": [
    {
     "name": "stdout",
     "output_type": "stream",
     "text": [
      "Enter your Age: 15\n",
      "\n",
      "Gender M or F: m\n",
      "\n",
      "Merital Status Y/N: n\n",
      "ERROR\n"
     ]
    }
   ],
   "source": [
    "area=None;\n",
    "age,gender,mstatus=int(input(\"Enter your Age: \")),input(\"\\nGender M or F: \").lower(),input(\"\\nMerital Status Y/N: \")\n",
    "if gender=='f'and age>20 and age<60:\n",
    "    area=\"You will work only in urban areas\"\n",
    "elif gender=='m':\n",
    "    if age>20 and age<40:\n",
    "        area=\"You may work in anywhere\"\n",
    "    elif age>40 and age<60:\n",
    "        area=\"You will work only in urban areas\"\n",
    "    else:\n",
    "        area=\"ERROR\"\n",
    "else:\n",
    "    area=\"ERROR\"\n",
    "print(f\"{area}\")"
   ]
  },
  {
   "cell_type": "code",
   "execution_count": null,
   "id": "5aa33acf",
   "metadata": {},
   "outputs": [],
   "source": []
  }
 ],
 "metadata": {
  "kernelspec": {
   "display_name": "Python 3 (ipykernel)",
   "language": "python",
   "name": "python3"
  },
  "language_info": {
   "codemirror_mode": {
    "name": "ipython",
    "version": 3
   },
   "file_extension": ".py",
   "mimetype": "text/x-python",
   "name": "python",
   "nbconvert_exporter": "python",
   "pygments_lexer": "ipython3",
   "version": "3.9.12"
  }
 },
 "nbformat": 4,
 "nbformat_minor": 5
}
